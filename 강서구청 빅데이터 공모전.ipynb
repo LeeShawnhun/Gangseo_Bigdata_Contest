{
 "cells": [
  {
   "cell_type": "markdown",
   "id": "8116dbae",
   "metadata": {},
   "source": [
    "# 패키지 로딩"
   ]
  },
  {
   "cell_type": "code",
   "execution_count": 2,
   "id": "3fe4c35d",
   "metadata": {},
   "outputs": [],
   "source": [
    "import numpy as np\n",
    "import pandas as pd\n",
    "\n",
    "import warnings\n",
    "\n",
    "warnings.filterwarnings(\"ignore\")"
   ]
  },
  {
   "cell_type": "markdown",
   "id": "319dc3a6",
   "metadata": {},
   "source": [
    "# 데이터 로딩"
   ]
  },
  {
   "cell_type": "markdown",
   "id": "2472028f",
   "metadata": {},
   "source": [
    "## 서울시 구별 남녀 인구수\n",
    "- 출처: 통계청 행정구역(시군구)별 성별 인구수\n",
    "- 데이터 분류: 월별 데이터\n",
    "- 기간: 2014년 3월 ~ 2024년 2월 (120개월, 10년치)\n"
   ]
  },
  {
   "cell_type": "code",
   "execution_count": 3,
   "id": "aee4e369",
   "metadata": {
    "scrolled": true
   },
   "outputs": [],
   "source": [
    "df1 = pd.read_csv(\"./data/서울시 구단위 남녀 인구수.csv\", header=[0, 1], encoding=\"cp949\")"
   ]
  },
  {
   "cell_type": "markdown",
   "id": "fb587bbf",
   "metadata": {},
   "source": [
    "## 서울시 연령대별 남녀 인구수\n",
    "- 출처: 통계청 시군구 성 연령 5세 별 주민등록연앙인구\n",
    "- 데이터 분류: 연간 데이터\n",
    "- 기간: 2014년 ~ 2023년 (10년치)"
   ]
  },
  {
   "cell_type": "markdown",
   "id": "a4aa43cc",
   "metadata": {},
   "source": [
    "### 남자 인구수"
   ]
  },
  {
   "cell_type": "code",
   "execution_count": 4,
   "id": "12f0abfc",
   "metadata": {
    "scrolled": true
   },
   "outputs": [],
   "source": [
    "df2 = pd.read_csv(\"./data/서울시 구단위 연령별 인구수_남.csv\", index_col=[0, 1],encoding=\"cp949\")"
   ]
  },
  {
   "cell_type": "markdown",
   "id": "b53d2b32",
   "metadata": {},
   "source": [
    "### 여자 인구수"
   ]
  },
  {
   "cell_type": "code",
   "execution_count": 5,
   "id": "6aff7825",
   "metadata": {
    "scrolled": true
   },
   "outputs": [],
   "source": [
    "df3 = pd.read_csv(\"./data/서울시 구단위 연령별 인구수_여.csv\", index_col=[0, 1],encoding=\"cp949\")"
   ]
  },
  {
   "cell_type": "markdown",
   "id": "41dbee77",
   "metadata": {},
   "source": [
    "## 주민등록인구(내국인 각 세별/구별)\n",
    "- 출처: 서울 열린데이터 광장\n",
    "- 데이터 분류: 분기별"
   ]
  },
  {
   "cell_type": "code",
   "execution_count": 6,
   "id": "4baa59ed",
   "metadata": {
    "scrolled": true
   },
   "outputs": [],
   "source": [
    "# 2023년 4분기 데이터\n",
    "df4 = pd.read_excel(\"./data/주민등록인구(내국인 각 세별_구별)_2023년 4분기.xlsx\", index_col = 0)\n",
    "df4.index.name = None"
   ]
  },
  {
   "cell_type": "markdown",
   "id": "faba4b6d",
   "metadata": {},
   "source": [
    "## 세대원수별 세대수\n",
    "- 출처: 서울 열린데이터 광장\n",
    "- 데이터 분류: 월별"
   ]
  },
  {
   "cell_type": "code",
   "execution_count": 7,
   "id": "ba2d0935",
   "metadata": {
    "scrolled": true
   },
   "outputs": [],
   "source": [
    "# 2023년 데이터\n",
    "df5 = pd.read_excel(\"./data/2023년 세대원수별 세대수.xlsx\", index_col=0)"
   ]
  },
  {
   "cell_type": "markdown",
   "id": "1cfe7b2a",
   "metadata": {},
   "source": [
    "## 주민등록인구(월별)\n",
    "- 출처: 서울 열린데이터 광장\n",
    "- 데이터 분류: 월별"
   ]
  },
  {
   "cell_type": "code",
   "execution_count": null,
   "id": "a2da7962",
   "metadata": {},
   "outputs": [],
   "source": [
    "# 2023년 데이터\n",
    "df6 = pd.read_excel(\"./data/2023년 주민등록인구.xlsx\", index_col=0, header=[0, 1])"
   ]
  },
  {
   "cell_type": "markdown",
   "id": "518e9042",
   "metadata": {},
   "source": [
    "## 서울시 자치구 (목적별) CCTV 설치현황\n",
    "- 출처: 서울 열린데이터 광장"
   ]
  },
  {
   "cell_type": "code",
   "execution_count": 88,
   "id": "c959d244",
   "metadata": {},
   "outputs": [],
   "source": [
    "df7 = pd.read_excel(\"./data/서울시 자치구 (목적별) CCTV 설치현황_231231.xlsx\", index_col=0, header=[0, 1])"
   ]
  },
  {
   "cell_type": "markdown",
   "id": "ff3305f8",
   "metadata": {},
   "source": [
    "# 데이터 전처리"
   ]
  },
  {
   "cell_type": "markdown",
   "id": "a218c33d",
   "metadata": {},
   "source": [
    "## 서울시 구단위 남녀 인구수"
   ]
  },
  {
   "cell_type": "markdown",
   "id": "afbe4330",
   "metadata": {},
   "source": [
    "- 시점 pd.datetime으로 변경"
   ]
  },
  {
   "cell_type": "code",
   "execution_count": 9,
   "id": "d6052b90",
   "metadata": {},
   "outputs": [
    {
     "name": "stdout",
     "output_type": "stream",
     "text": [
      "<class 'pandas.core.series.Series'>\n",
      "RangeIndex: 120 entries, 0 to 119\n",
      "Series name: ('시점', '시점')\n",
      "Non-Null Count  Dtype  \n",
      "--------------  -----  \n",
      "120 non-null    float64\n",
      "dtypes: float64(1)\n",
      "memory usage: 1.1 KB\n"
     ]
    }
   ],
   "source": [
    "# 데이터 타입 확인: float64\n",
    "df1[(\"시점\", \"시점\")].info()"
   ]
  },
  {
   "cell_type": "code",
   "execution_count": 10,
   "id": "99231ba2",
   "metadata": {
    "scrolled": true
   },
   "outputs": [],
   "source": [
    "# float -> stirng -> pd.to_datetime()\n",
    "df1[(\"시점\", \"시점\")] = df1[(\"시점\", \"시점\")].apply(lambda x: pd.to_datetime(str(x)))\n",
    "\n",
    "df1 = df1.set_index(df1[(\"시점\", \"시점\")]) \n",
    "df1 = df1.drop(('시점', '시점'), axis = 1)"
   ]
  },
  {
   "cell_type": "markdown",
   "id": "e06f5541",
   "metadata": {},
   "source": [
    "- index 이름 초기화\n",
    "- Multi columns 이름 설정"
   ]
  },
  {
   "cell_type": "code",
   "execution_count": 11,
   "id": "d386f271",
   "metadata": {
    "scrolled": true
   },
   "outputs": [],
   "source": [
    "df1.index.name = None\n",
    "df1.columns.names = [\"구\", \"성별\"]"
   ]
  },
  {
   "cell_type": "markdown",
   "id": "4f82fade",
   "metadata": {},
   "source": [
    "- 시기별 서울시 전체 인구 계산"
   ]
  },
  {
   "cell_type": "code",
   "execution_count": 13,
   "id": "3fcc5c18",
   "metadata": {},
   "outputs": [
    {
     "name": "stdout",
     "output_type": "stream",
     "text": [
      "25\n"
     ]
    }
   ],
   "source": [
    "colList = list(df1.columns.get_level_values(\"구\").unique())\n",
    "\n",
    "print(len(colList))"
   ]
  },
  {
   "cell_type": "code",
   "execution_count": 14,
   "id": "c5603aaa",
   "metadata": {},
   "outputs": [],
   "source": [
    "df1_sum = pd.DataFrame()\n",
    "\n",
    "for column in colList:\n",
    "    temp = df1[column]\n",
    "    temp[f\"{column} 합계\"] = temp.sum(axis = 1)\n",
    "    \n",
    "    df1_sum = pd.concat([df1_sum, temp[[f\"{column} 합계\"]]], axis = 1)"
   ]
  },
  {
   "cell_type": "code",
   "execution_count": 15,
   "id": "3e600eb2",
   "metadata": {
    "scrolled": true
   },
   "outputs": [],
   "source": [
    "df1_sum[\"서울시\"] = df1_sum.sum(axis = 1)"
   ]
  },
  {
   "cell_type": "code",
   "execution_count": 16,
   "id": "7d0fc7ac",
   "metadata": {},
   "outputs": [],
   "source": [
    "df1_prop = df1_sum.divide(df1_sum[\"서울시\"], axis = 0)\n",
    "df1_prop = df1_prop.apply(lambda x: x*100)"
   ]
  },
  {
   "cell_type": "markdown",
   "id": "a4d2974b",
   "metadata": {},
   "source": [
    "- 남자 인구 통계"
   ]
  },
  {
   "cell_type": "code",
   "execution_count": 17,
   "id": "7193266c",
   "metadata": {},
   "outputs": [],
   "source": [
    "male_population = df1.xs('남자인구수 (명)', level='성별', axis=1)\n",
    "male_population[\"서울시\"] = male_population.sum(axis = 1).astype(int)"
   ]
  },
  {
   "cell_type": "code",
   "execution_count": 18,
   "id": "462ee680",
   "metadata": {},
   "outputs": [],
   "source": [
    "male_prop = male_population.divide(male_population[\"서울시\"], axis = 0).drop(\"서울시\", axis = 1)\n",
    "male_prop[\"비율 합\"] = male_prop.sum(axis = 1)"
   ]
  },
  {
   "cell_type": "markdown",
   "id": "1a169113",
   "metadata": {},
   "source": [
    "## 서울시 연령대별 남녀 인구수"
   ]
  },
  {
   "cell_type": "markdown",
   "id": "1be5be45",
   "metadata": {},
   "source": [
    "### 남자 인구수"
   ]
  },
  {
   "cell_type": "markdown",
   "id": "114907d0",
   "metadata": {},
   "source": [
    "- 특정 연도 데이터 분리"
   ]
  },
  {
   "cell_type": "code",
   "execution_count": 19,
   "id": "beb46c6b",
   "metadata": {
    "scrolled": true
   },
   "outputs": [],
   "source": [
    "df2_2014 = df2.xs(2014, level=\"시점\")\n",
    "df2_2014 = df2_2014.T"
   ]
  },
  {
   "cell_type": "markdown",
   "id": "d2ef7709",
   "metadata": {},
   "source": [
    "## 주민등록인구(내국인 각 세별_구별)"
   ]
  },
  {
   "cell_type": "markdown",
   "id": "5a992d63",
   "metadata": {},
   "source": [
    "- 생애주기별 인구 분류\n",
    "    - 아동청소년: 0 ~ 18\n",
    "    - 청년: 19 ~ 34\n",
    "    - 중장년: 35 ~ 64\n",
    "    - 노인: 65 ~"
   ]
  },
  {
   "cell_type": "code",
   "execution_count": 20,
   "id": "feb17002",
   "metadata": {},
   "outputs": [],
   "source": [
    "df4_Gen = pd.DataFrame()\n",
    "ageClassify = [(0, 19, \"아동청소년\"), (19, 35, \"청년\"), (35, 65, \"중장년\"), (65,None, \"노인\")]\n",
    "\n",
    "for i in ageClassify:\n",
    "    start, end, category = i\n",
    "    temp = df4.iloc[:, start:end]\n",
    "    temp[category] = temp.sum(axis = 1)\n",
    "    \n",
    "    df4_Gen = pd.concat([df4_Gen, temp[[category]]], axis = 1)"
   ]
  },
  {
   "cell_type": "markdown",
   "id": "0f3b3636",
   "metadata": {},
   "source": [
    "## 서울시 자치구 (목적별) CCTV 설치현황"
   ]
  },
  {
   "cell_type": "markdown",
   "id": "d2054915",
   "metadata": {},
   "source": [
    "- Multi Columns level 축소\n",
    "- columns 이름 변경\n",
    "- index 자치구 -> 서울시 변경"
   ]
  },
  {
   "cell_type": "code",
   "execution_count": 115,
   "id": "d54e8f38",
   "metadata": {},
   "outputs": [],
   "source": [
    "remain = df7[\"범죄예방 및 수사\"][['방범', '어린이 보호구역', '공원·놀이터', '쓰레기 무단투기']]\n",
    "\n",
    "df7_drop = df7.drop(\"범죄예방 및 수사\", axis = 1)\n",
    "df7_drop.columns = [\"CCTV 총계\", \"시설안전·화재예방\", \"교통단속\", \"교통정보수집·분석\", \"기타 다른법령\"]\n",
    "\n",
    "df7_prep = pd.concat([df7_drop, remain], axis = 1)\n",
    "df7_prep = df7_prep.rename(index={\"자치구 \":\"서울시\"})"
   ]
  },
  {
   "cell_type": "markdown",
   "id": "675624e1",
   "metadata": {},
   "source": [
    "# 데이터 추출"
   ]
  },
  {
   "cell_type": "markdown",
   "id": "e09e9b04",
   "metadata": {},
   "source": [
    "## 강서구 인구현황(2023년 기준)\n",
    "- 세대수: 274084\n",
    "- 남성: 269822\n",
    "- 여성: 293236\n",
    "- 외국인: 5768"
   ]
  },
  {
   "cell_type": "code",
   "execution_count": 21,
   "id": "a137c271",
   "metadata": {
    "scrolled": true
   },
   "outputs": [],
   "source": [
    "df5[\"세대수\"] = df5.sum(axis = 1)\n",
    "household = df5[\"세대수\"][\"강서구\"]"
   ]
  },
  {
   "cell_type": "code",
   "execution_count": 24,
   "id": "a9b96da2",
   "metadata": {},
   "outputs": [
    {
     "data": {
      "text/html": [
       "<div>\n",
       "<style scoped>\n",
       "    .dataframe tbody tr th:only-of-type {\n",
       "        vertical-align: middle;\n",
       "    }\n",
       "\n",
       "    .dataframe tbody tr th {\n",
       "        vertical-align: top;\n",
       "    }\n",
       "\n",
       "    .dataframe thead th {\n",
       "        text-align: right;\n",
       "    }\n",
       "</style>\n",
       "<table border=\"1\" class=\"dataframe\">\n",
       "  <thead>\n",
       "    <tr style=\"text-align: right;\">\n",
       "      <th></th>\n",
       "      <th>세대수</th>\n",
       "      <th>남성</th>\n",
       "      <th>여성</th>\n",
       "      <th>외국인</th>\n",
       "    </tr>\n",
       "  </thead>\n",
       "  <tbody>\n",
       "    <tr>\n",
       "      <th>강서구</th>\n",
       "      <td>274084</td>\n",
       "      <td>269822</td>\n",
       "      <td>293236</td>\n",
       "      <td>5768</td>\n",
       "    </tr>\n",
       "  </tbody>\n",
       "</table>\n",
       "</div>"
      ],
      "text/plain": [
       "        세대수      남성      여성   외국인\n",
       "강서구  274084  269822  293236  5768"
      ]
     },
     "execution_count": 24,
     "metadata": {},
     "output_type": "execute_result"
    }
   ],
   "source": [
    "foreigner = df6[\"외국인 (명)\"]\n",
    "foreigner[\"외국인\"] = foreigner.sum(axis = 1)\n",
    "\n",
    "df6_subtotal = pd.concat([df6[\"한국인 (명)\"], foreigner[\"외국인\"]], axis = 1)\n",
    "df6_subtotal = df6_subtotal[df6_subtotal.index == \"강서구\"]\n",
    "\n",
    "df6_subtotal[\"세대수\"] = household\n",
    "df6_subtotal = df6_subtotal.rename(columns={\"남자\":\"남성\", \"여자\":\"여성\"})\n",
    "df6_subtotal[[\"세대수\", \"남성\", \"여성\", \"외국인\"]]\n",
    "# df6_subtotal.to_excel(\"./output/2023년 강서구 인구현황.xlsx\")"
   ]
  },
  {
   "cell_type": "markdown",
   "id": "60af4c65",
   "metadata": {},
   "source": [
    "## 구별 인구현황(2023년 기준)"
   ]
  },
  {
   "cell_type": "code",
   "execution_count": 28,
   "id": "dc39945b",
   "metadata": {
    "scrolled": true
   },
   "outputs": [],
   "source": [
    "df6.columns.names = [\"국적\", \"성별\"]\n",
    "\n",
    "temp_male = df6.xs('남자', level='성별', axis=1)\n",
    "temp_male[\"남성\"] = temp_male.sum(axis = 1)\n",
    "\n",
    "temp_female = df6.xs('여자', level='성별', axis=1)\n",
    "temp_female[\"여성\"] = temp_female.sum(axis = 1)\n",
    "\n",
    "temp_subtotal = pd.concat([temp_male[[\"남성\"]], temp_female[[\"여성\"]]], axis = 1)\n",
    "temp_subtotal[\"인구수\"] = temp_subtotal.sum(axis = 1)"
   ]
  },
  {
   "cell_type": "code",
   "execution_count": 29,
   "id": "92442aa0",
   "metadata": {},
   "outputs": [],
   "source": [
    "temp = df5[[\"세대수\"]]\n",
    "temp_subset = pd.Series(temp[[\"세대수\"]].sum(), name=\"소계\")\n",
    "temp = temp.append(temp_subset)\n",
    "\n",
    "df6_status = pd.merge(temp_subtotal, temp, left_index=True, right_index=True, how=\"left\")\n",
    "\n",
    "df6_status = df6_status[[\"인구수\", \"세대수\", \"남성\", \"여성\"]]\n",
    "df6_status = df6_status.rename(index={\"소계\":\"서울시\"})\n",
    "df6_status[\"남녀비율(남성/여성)\"] = df6_status[\"남성\"] / df6_status[\"여성\"]\n",
    "\n",
    "# df6_status.to_excel(\"./output/2023년 구별 인구현황.xlsx\")"
   ]
  },
  {
   "cell_type": "markdown",
   "id": "2f7c5898",
   "metadata": {},
   "source": [
    "### 인구 통계 확인"
   ]
  },
  {
   "cell_type": "code",
   "execution_count": 33,
   "id": "23269d71",
   "metadata": {},
   "outputs": [
    {
     "data": {
      "text/html": [
       "<div>\n",
       "<style scoped>\n",
       "    .dataframe tbody tr th:only-of-type {\n",
       "        vertical-align: middle;\n",
       "    }\n",
       "\n",
       "    .dataframe tbody tr th {\n",
       "        vertical-align: top;\n",
       "    }\n",
       "\n",
       "    .dataframe thead th {\n",
       "        text-align: right;\n",
       "    }\n",
       "</style>\n",
       "<table border=\"1\" class=\"dataframe\">\n",
       "  <thead>\n",
       "    <tr style=\"text-align: right;\">\n",
       "      <th></th>\n",
       "      <th>인구수</th>\n",
       "      <th>세대수</th>\n",
       "      <th>남성</th>\n",
       "      <th>여성</th>\n",
       "      <th>남녀비율(남성/여성)</th>\n",
       "    </tr>\n",
       "  </thead>\n",
       "  <tbody>\n",
       "    <tr>\n",
       "      <th>서울시</th>\n",
       "      <td>9638799</td>\n",
       "      <td>4469417</td>\n",
       "      <td>4649446</td>\n",
       "      <td>4989353</td>\n",
       "      <td>0.931874</td>\n",
       "    </tr>\n",
       "    <tr>\n",
       "      <th>송파구</th>\n",
       "      <td>660025</td>\n",
       "      <td>285927</td>\n",
       "      <td>316981</td>\n",
       "      <td>343044</td>\n",
       "      <td>0.924024</td>\n",
       "    </tr>\n",
       "    <tr>\n",
       "      <th>강서구</th>\n",
       "      <td>568826</td>\n",
       "      <td>274084</td>\n",
       "      <td>272338</td>\n",
       "      <td>296488</td>\n",
       "      <td>0.918546</td>\n",
       "    </tr>\n",
       "    <tr>\n",
       "      <th>강남구</th>\n",
       "      <td>550282</td>\n",
       "      <td>239775</td>\n",
       "      <td>262991</td>\n",
       "      <td>287291</td>\n",
       "      <td>0.915417</td>\n",
       "    </tr>\n",
       "    <tr>\n",
       "      <th>노원구</th>\n",
       "      <td>502925</td>\n",
       "      <td>217904</td>\n",
       "      <td>241099</td>\n",
       "      <td>261826</td>\n",
       "      <td>0.920837</td>\n",
       "    </tr>\n",
       "    <tr>\n",
       "      <th>관악구</th>\n",
       "      <td>497883</td>\n",
       "      <td>284578</td>\n",
       "      <td>249026</td>\n",
       "      <td>248857</td>\n",
       "      <td>1.000679</td>\n",
       "    </tr>\n",
       "  </tbody>\n",
       "</table>\n",
       "</div>"
      ],
      "text/plain": [
       "         인구수      세대수       남성       여성  남녀비율(남성/여성)\n",
       "서울시  9638799  4469417  4649446  4989353     0.931874\n",
       "송파구   660025   285927   316981   343044     0.924024\n",
       "강서구   568826   274084   272338   296488     0.918546\n",
       "강남구   550282   239775   262991   287291     0.915417\n",
       "노원구   502925   217904   241099   261826     0.920837\n",
       "관악구   497883   284578   249026   248857     1.000679"
      ]
     },
     "execution_count": 33,
     "metadata": {},
     "output_type": "execute_result"
    }
   ],
   "source": [
    "df6_status.sort_values(by=\"인구수\", ascending=False).head(6)"
   ]
  },
  {
   "cell_type": "code",
   "execution_count": 34,
   "id": "dff1bee1",
   "metadata": {},
   "outputs": [
    {
     "data": {
      "text/html": [
       "<div>\n",
       "<style scoped>\n",
       "    .dataframe tbody tr th:only-of-type {\n",
       "        vertical-align: middle;\n",
       "    }\n",
       "\n",
       "    .dataframe tbody tr th {\n",
       "        vertical-align: top;\n",
       "    }\n",
       "\n",
       "    .dataframe thead th {\n",
       "        text-align: right;\n",
       "    }\n",
       "</style>\n",
       "<table border=\"1\" class=\"dataframe\">\n",
       "  <thead>\n",
       "    <tr style=\"text-align: right;\">\n",
       "      <th></th>\n",
       "      <th>인구수</th>\n",
       "      <th>세대수</th>\n",
       "      <th>남성</th>\n",
       "      <th>여성</th>\n",
       "      <th>남녀비율(남성/여성)</th>\n",
       "    </tr>\n",
       "  </thead>\n",
       "  <tbody>\n",
       "    <tr>\n",
       "      <th>서울시</th>\n",
       "      <td>9638799</td>\n",
       "      <td>4469417</td>\n",
       "      <td>4649446</td>\n",
       "      <td>4989353</td>\n",
       "      <td>0.931874</td>\n",
       "    </tr>\n",
       "    <tr>\n",
       "      <th>송파구</th>\n",
       "      <td>660025</td>\n",
       "      <td>285927</td>\n",
       "      <td>316981</td>\n",
       "      <td>343044</td>\n",
       "      <td>0.924024</td>\n",
       "    </tr>\n",
       "    <tr>\n",
       "      <th>관악구</th>\n",
       "      <td>497883</td>\n",
       "      <td>284578</td>\n",
       "      <td>249026</td>\n",
       "      <td>248857</td>\n",
       "      <td>1.000679</td>\n",
       "    </tr>\n",
       "    <tr>\n",
       "      <th>강서구</th>\n",
       "      <td>568826</td>\n",
       "      <td>274084</td>\n",
       "      <td>272338</td>\n",
       "      <td>296488</td>\n",
       "      <td>0.918546</td>\n",
       "    </tr>\n",
       "    <tr>\n",
       "      <th>강남구</th>\n",
       "      <td>550282</td>\n",
       "      <td>239775</td>\n",
       "      <td>262991</td>\n",
       "      <td>287291</td>\n",
       "      <td>0.915417</td>\n",
       "    </tr>\n",
       "    <tr>\n",
       "      <th>노원구</th>\n",
       "      <td>502925</td>\n",
       "      <td>217904</td>\n",
       "      <td>241099</td>\n",
       "      <td>261826</td>\n",
       "      <td>0.920837</td>\n",
       "    </tr>\n",
       "  </tbody>\n",
       "</table>\n",
       "</div>"
      ],
      "text/plain": [
       "         인구수      세대수       남성       여성  남녀비율(남성/여성)\n",
       "서울시  9638799  4469417  4649446  4989353     0.931874\n",
       "송파구   660025   285927   316981   343044     0.924024\n",
       "관악구   497883   284578   249026   248857     1.000679\n",
       "강서구   568826   274084   272338   296488     0.918546\n",
       "강남구   550282   239775   262991   287291     0.915417\n",
       "노원구   502925   217904   241099   261826     0.920837"
      ]
     },
     "execution_count": 34,
     "metadata": {},
     "output_type": "execute_result"
    }
   ],
   "source": [
    "df6_status.sort_values(by=\"세대수\", ascending=False).head(6)"
   ]
  },
  {
   "cell_type": "code",
   "execution_count": 35,
   "id": "940daeb3",
   "metadata": {},
   "outputs": [
    {
     "data": {
      "text/html": [
       "<div>\n",
       "<style scoped>\n",
       "    .dataframe tbody tr th:only-of-type {\n",
       "        vertical-align: middle;\n",
       "    }\n",
       "\n",
       "    .dataframe tbody tr th {\n",
       "        vertical-align: top;\n",
       "    }\n",
       "\n",
       "    .dataframe thead th {\n",
       "        text-align: right;\n",
       "    }\n",
       "</style>\n",
       "<table border=\"1\" class=\"dataframe\">\n",
       "  <thead>\n",
       "    <tr style=\"text-align: right;\">\n",
       "      <th></th>\n",
       "      <th>인구수</th>\n",
       "      <th>세대수</th>\n",
       "      <th>남성</th>\n",
       "      <th>여성</th>\n",
       "      <th>남녀비율(남성/여성)</th>\n",
       "    </tr>\n",
       "  </thead>\n",
       "  <tbody>\n",
       "    <tr>\n",
       "      <th>서울시</th>\n",
       "      <td>9638799</td>\n",
       "      <td>4469417</td>\n",
       "      <td>4649446</td>\n",
       "      <td>4989353</td>\n",
       "      <td>0.931874</td>\n",
       "    </tr>\n",
       "    <tr>\n",
       "      <th>송파구</th>\n",
       "      <td>660025</td>\n",
       "      <td>285927</td>\n",
       "      <td>316981</td>\n",
       "      <td>343044</td>\n",
       "      <td>0.924024</td>\n",
       "    </tr>\n",
       "    <tr>\n",
       "      <th>강서구</th>\n",
       "      <td>568826</td>\n",
       "      <td>274084</td>\n",
       "      <td>272338</td>\n",
       "      <td>296488</td>\n",
       "      <td>0.918546</td>\n",
       "    </tr>\n",
       "    <tr>\n",
       "      <th>강남구</th>\n",
       "      <td>550282</td>\n",
       "      <td>239775</td>\n",
       "      <td>262991</td>\n",
       "      <td>287291</td>\n",
       "      <td>0.915417</td>\n",
       "    </tr>\n",
       "    <tr>\n",
       "      <th>관악구</th>\n",
       "      <td>497883</td>\n",
       "      <td>284578</td>\n",
       "      <td>249026</td>\n",
       "      <td>248857</td>\n",
       "      <td>1.000679</td>\n",
       "    </tr>\n",
       "    <tr>\n",
       "      <th>노원구</th>\n",
       "      <td>502925</td>\n",
       "      <td>217904</td>\n",
       "      <td>241099</td>\n",
       "      <td>261826</td>\n",
       "      <td>0.920837</td>\n",
       "    </tr>\n",
       "  </tbody>\n",
       "</table>\n",
       "</div>"
      ],
      "text/plain": [
       "         인구수      세대수       남성       여성  남녀비율(남성/여성)\n",
       "서울시  9638799  4469417  4649446  4989353     0.931874\n",
       "송파구   660025   285927   316981   343044     0.924024\n",
       "강서구   568826   274084   272338   296488     0.918546\n",
       "강남구   550282   239775   262991   287291     0.915417\n",
       "관악구   497883   284578   249026   248857     1.000679\n",
       "노원구   502925   217904   241099   261826     0.920837"
      ]
     },
     "execution_count": 35,
     "metadata": {},
     "output_type": "execute_result"
    }
   ],
   "source": [
    "df6_status.sort_values(by=\"남성\", ascending=False).head(6)"
   ]
  },
  {
   "cell_type": "code",
   "execution_count": 36,
   "id": "f2dca3e3",
   "metadata": {},
   "outputs": [
    {
     "data": {
      "text/html": [
       "<div>\n",
       "<style scoped>\n",
       "    .dataframe tbody tr th:only-of-type {\n",
       "        vertical-align: middle;\n",
       "    }\n",
       "\n",
       "    .dataframe tbody tr th {\n",
       "        vertical-align: top;\n",
       "    }\n",
       "\n",
       "    .dataframe thead th {\n",
       "        text-align: right;\n",
       "    }\n",
       "</style>\n",
       "<table border=\"1\" class=\"dataframe\">\n",
       "  <thead>\n",
       "    <tr style=\"text-align: right;\">\n",
       "      <th></th>\n",
       "      <th>인구수</th>\n",
       "      <th>세대수</th>\n",
       "      <th>남성</th>\n",
       "      <th>여성</th>\n",
       "      <th>남녀비율(남성/여성)</th>\n",
       "    </tr>\n",
       "  </thead>\n",
       "  <tbody>\n",
       "    <tr>\n",
       "      <th>서울시</th>\n",
       "      <td>9638799</td>\n",
       "      <td>4469417</td>\n",
       "      <td>4649446</td>\n",
       "      <td>4989353</td>\n",
       "      <td>0.931874</td>\n",
       "    </tr>\n",
       "    <tr>\n",
       "      <th>송파구</th>\n",
       "      <td>660025</td>\n",
       "      <td>285927</td>\n",
       "      <td>316981</td>\n",
       "      <td>343044</td>\n",
       "      <td>0.924024</td>\n",
       "    </tr>\n",
       "    <tr>\n",
       "      <th>강서구</th>\n",
       "      <td>568826</td>\n",
       "      <td>274084</td>\n",
       "      <td>272338</td>\n",
       "      <td>296488</td>\n",
       "      <td>0.918546</td>\n",
       "    </tr>\n",
       "    <tr>\n",
       "      <th>강남구</th>\n",
       "      <td>550282</td>\n",
       "      <td>239775</td>\n",
       "      <td>262991</td>\n",
       "      <td>287291</td>\n",
       "      <td>0.915417</td>\n",
       "    </tr>\n",
       "    <tr>\n",
       "      <th>노원구</th>\n",
       "      <td>502925</td>\n",
       "      <td>217904</td>\n",
       "      <td>241099</td>\n",
       "      <td>261826</td>\n",
       "      <td>0.920837</td>\n",
       "    </tr>\n",
       "    <tr>\n",
       "      <th>관악구</th>\n",
       "      <td>497883</td>\n",
       "      <td>284578</td>\n",
       "      <td>249026</td>\n",
       "      <td>248857</td>\n",
       "      <td>1.000679</td>\n",
       "    </tr>\n",
       "  </tbody>\n",
       "</table>\n",
       "</div>"
      ],
      "text/plain": [
       "         인구수      세대수       남성       여성  남녀비율(남성/여성)\n",
       "서울시  9638799  4469417  4649446  4989353     0.931874\n",
       "송파구   660025   285927   316981   343044     0.924024\n",
       "강서구   568826   274084   272338   296488     0.918546\n",
       "강남구   550282   239775   262991   287291     0.915417\n",
       "노원구   502925   217904   241099   261826     0.920837\n",
       "관악구   497883   284578   249026   248857     1.000679"
      ]
     },
     "execution_count": 36,
     "metadata": {},
     "output_type": "execute_result"
    }
   ],
   "source": [
    "df6_status.sort_values(by=\"여성\", ascending=False).head(6)"
   ]
  },
  {
   "cell_type": "code",
   "execution_count": 37,
   "id": "8a167988",
   "metadata": {},
   "outputs": [
    {
     "data": {
      "text/html": [
       "<div>\n",
       "<style scoped>\n",
       "    .dataframe tbody tr th:only-of-type {\n",
       "        vertical-align: middle;\n",
       "    }\n",
       "\n",
       "    .dataframe tbody tr th {\n",
       "        vertical-align: top;\n",
       "    }\n",
       "\n",
       "    .dataframe thead th {\n",
       "        text-align: right;\n",
       "    }\n",
       "</style>\n",
       "<table border=\"1\" class=\"dataframe\">\n",
       "  <thead>\n",
       "    <tr style=\"text-align: right;\">\n",
       "      <th></th>\n",
       "      <th>인구수</th>\n",
       "      <th>세대수</th>\n",
       "      <th>남성</th>\n",
       "      <th>여성</th>\n",
       "      <th>남녀비율(남성/여성)</th>\n",
       "    </tr>\n",
       "  </thead>\n",
       "  <tbody>\n",
       "    <tr>\n",
       "      <th>금천구</th>\n",
       "      <td>241105</td>\n",
       "      <td>120381</td>\n",
       "      <td>121592</td>\n",
       "      <td>119513</td>\n",
       "      <td>1.017396</td>\n",
       "    </tr>\n",
       "    <tr>\n",
       "      <th>관악구</th>\n",
       "      <td>497883</td>\n",
       "      <td>284578</td>\n",
       "      <td>249026</td>\n",
       "      <td>248857</td>\n",
       "      <td>1.000679</td>\n",
       "    </tr>\n",
       "    <tr>\n",
       "      <th>구로구</th>\n",
       "      <td>415651</td>\n",
       "      <td>184096</td>\n",
       "      <td>204715</td>\n",
       "      <td>210936</td>\n",
       "      <td>0.970508</td>\n",
       "    </tr>\n",
       "    <tr>\n",
       "      <th>영등포구</th>\n",
       "      <td>397800</td>\n",
       "      <td>190737</td>\n",
       "      <td>195493</td>\n",
       "      <td>202307</td>\n",
       "      <td>0.966319</td>\n",
       "    </tr>\n",
       "    <tr>\n",
       "      <th>중랑구</th>\n",
       "      <td>387470</td>\n",
       "      <td>188097</td>\n",
       "      <td>189462</td>\n",
       "      <td>198008</td>\n",
       "      <td>0.956840</td>\n",
       "    </tr>\n",
       "    <tr>\n",
       "      <th>강동구</th>\n",
       "      <td>463318</td>\n",
       "      <td>203734</td>\n",
       "      <td>226237</td>\n",
       "      <td>237081</td>\n",
       "      <td>0.954260</td>\n",
       "    </tr>\n",
       "  </tbody>\n",
       "</table>\n",
       "</div>"
      ],
      "text/plain": [
       "         인구수     세대수      남성      여성  남녀비율(남성/여성)\n",
       "금천구   241105  120381  121592  119513     1.017396\n",
       "관악구   497883  284578  249026  248857     1.000679\n",
       "구로구   415651  184096  204715  210936     0.970508\n",
       "영등포구  397800  190737  195493  202307     0.966319\n",
       "중랑구   387470  188097  189462  198008     0.956840\n",
       "강동구   463318  203734  226237  237081     0.954260"
      ]
     },
     "execution_count": 37,
     "metadata": {},
     "output_type": "execute_result"
    }
   ],
   "source": [
    "df6_status.sort_values(by=\"남녀비율(남성/여성)\", ascending=False).head(6)"
   ]
  },
  {
   "cell_type": "code",
   "execution_count": 55,
   "id": "5e8b4c12",
   "metadata": {},
   "outputs": [
    {
     "data": {
      "text/html": [
       "<div>\n",
       "<style scoped>\n",
       "    .dataframe tbody tr th:only-of-type {\n",
       "        vertical-align: middle;\n",
       "    }\n",
       "\n",
       "    .dataframe tbody tr th {\n",
       "        vertical-align: top;\n",
       "    }\n",
       "\n",
       "    .dataframe thead th {\n",
       "        text-align: right;\n",
       "    }\n",
       "</style>\n",
       "<table border=\"1\" class=\"dataframe\">\n",
       "  <thead>\n",
       "    <tr style=\"text-align: right;\">\n",
       "      <th></th>\n",
       "      <th>인구수</th>\n",
       "      <th>세대수</th>\n",
       "      <th>남성</th>\n",
       "      <th>여성</th>\n",
       "      <th>남녀비율(남성/여성)</th>\n",
       "    </tr>\n",
       "  </thead>\n",
       "  <tbody>\n",
       "    <tr>\n",
       "      <th>송파구</th>\n",
       "      <td>660025</td>\n",
       "      <td>285927</td>\n",
       "      <td>316981</td>\n",
       "      <td>343044</td>\n",
       "      <td>0.924024</td>\n",
       "    </tr>\n",
       "    <tr>\n",
       "      <th>노원구</th>\n",
       "      <td>502925</td>\n",
       "      <td>217904</td>\n",
       "      <td>241099</td>\n",
       "      <td>261826</td>\n",
       "      <td>0.920837</td>\n",
       "    </tr>\n",
       "    <tr>\n",
       "      <th>강서구</th>\n",
       "      <td>568826</td>\n",
       "      <td>274084</td>\n",
       "      <td>272338</td>\n",
       "      <td>296488</td>\n",
       "      <td>0.918546</td>\n",
       "    </tr>\n",
       "    <tr>\n",
       "      <th>강남구</th>\n",
       "      <td>550282</td>\n",
       "      <td>239775</td>\n",
       "      <td>262991</td>\n",
       "      <td>287291</td>\n",
       "      <td>0.915417</td>\n",
       "    </tr>\n",
       "    <tr>\n",
       "      <th>종로구</th>\n",
       "      <td>150453</td>\n",
       "      <td>72067</td>\n",
       "      <td>71890</td>\n",
       "      <td>78563</td>\n",
       "      <td>0.915062</td>\n",
       "    </tr>\n",
       "  </tbody>\n",
       "</table>\n",
       "</div>"
      ],
      "text/plain": [
       "        인구수     세대수      남성      여성  남녀비율(남성/여성)\n",
       "송파구  660025  285927  316981  343044     0.924024\n",
       "노원구  502925  217904  241099  261826     0.920837\n",
       "강서구  568826  274084  272338  296488     0.918546\n",
       "강남구  550282  239775  262991  287291     0.915417\n",
       "종로구  150453   72067   71890   78563     0.915062"
      ]
     },
     "execution_count": 55,
     "metadata": {},
     "output_type": "execute_result"
    }
   ],
   "source": [
    "temp = df6_status.sort_values(by=\"남녀비율(남성/여성)\", ascending=False)\n",
    "temp_loc = temp.index.get_loc(\"강서구\")\n",
    "temp.iloc[temp_loc - 2 : temp_loc + 3]"
   ]
  }
 ],
 "metadata": {
  "kernelspec": {
   "display_name": "Python 3 (ipykernel)",
   "language": "python",
   "name": "python3"
  },
  "language_info": {
   "codemirror_mode": {
    "name": "ipython",
    "version": 3
   },
   "file_extension": ".py",
   "mimetype": "text/x-python",
   "name": "python",
   "nbconvert_exporter": "python",
   "pygments_lexer": "ipython3",
   "version": "3.9.13"
  },
  "toc": {
   "base_numbering": 1,
   "nav_menu": {},
   "number_sections": true,
   "sideBar": true,
   "skip_h1_title": false,
   "title_cell": "Table of Contents",
   "title_sidebar": "Contents",
   "toc_cell": false,
   "toc_position": {
    "height": "calc(100% - 180px)",
    "left": "10px",
    "top": "150px",
    "width": "460.8px"
   },
   "toc_section_display": true,
   "toc_window_display": false
  }
 },
 "nbformat": 4,
 "nbformat_minor": 5
}
